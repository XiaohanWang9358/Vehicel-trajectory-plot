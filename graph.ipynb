{
 "cells": [
  {
   "cell_type": "code",
   "execution_count": 9,
   "metadata": {},
   "outputs": [],
   "source": [
    "from PIL import Image\n",
    "import numpy\n",
    "import os\n",
    "path = os.getcwd()\n",
    "import copy"
   ]
  },
  {
   "cell_type": "code",
   "execution_count": 25,
   "metadata": {},
   "outputs": [],
   "source": [
    "inter=Image.open(path+'/Capture1.jpg')"
   ]
  },
  {
   "cell_type": "code",
   "execution_count": 26,
   "metadata": {},
   "outputs": [],
   "source": [
    "img=copy.deepcopy(inter)"
   ]
  },
  {
   "cell_type": "code",
   "execution_count": 27,
   "metadata": {},
   "outputs": [],
   "source": [
    "stopbar1=Image.new('RGB', (16, 3), 'red')\n",
    "img.paste(stopbar1,(100,100))"
   ]
  },
  {
   "cell_type": "code",
   "execution_count": 28,
   "metadata": {},
   "outputs": [],
   "source": [
    "img.save(path + '/final.jpg')"
   ]
  },
  {
   "cell_type": "code",
   "execution_count": 24,
   "metadata": {},
   "outputs": [
    {
     "name": "stdout",
     "output_type": "stream",
     "text": [
      "866 842\n"
     ]
    }
   ],
   "source": [
    "width,length=inter.size\n",
    "print(width,length)"
   ]
  },
  {
   "cell_type": "code",
   "execution_count": 25,
   "metadata": {},
   "outputs": [],
   "source": [
    "inter= inter.resize((width*2,length*2), Image.ANTIALIAS)"
   ]
  },
  {
   "cell_type": "code",
   "execution_count": 27,
   "metadata": {},
   "outputs": [
    {
     "name": "stdout",
     "output_type": "stream",
     "text": [
      "(1732, 1684)\n"
     ]
    }
   ],
   "source": [
    "print(inter.size[0:2])"
   ]
  },
  {
   "cell_type": "code",
   "execution_count": 28,
   "metadata": {},
   "outputs": [],
   "source": [
    "inter.save(path + '/newinter.jpg')"
   ]
  },
  {
   "cell_type": "code",
   "execution_count": 5,
   "metadata": {},
   "outputs": [
    {
     "name": "stdout",
     "output_type": "stream",
     "text": [
      "866 842\n"
     ]
    }
   ],
   "source": [
    "print(width,length)"
   ]
  },
  {
   "cell_type": "code",
   "execution_count": 2,
   "metadata": {},
   "outputs": [],
   "source": [
    "#img = cv2.imread(path + '/Image/test_Image.png', cv2.IMREAD_GRAYSCALE)\n",
    "img = Image.open(path + '/resize.jpg')  # 我使用的是灰度图像\n",
    "up_img = Image.new('L', (648, 300), 'red')  # 制作宽1024，长12的白条\n",
    "down_img = Image.new('L', (648, 600), 'white')  # 制作宽1024，长17的白条\n",
    "up_img.save(path + '/up.png')\n",
    "down_img.save(path + '/down.jpg')"
   ]
  },
  {
   "cell_type": "code",
   "execution_count": 3,
   "metadata": {},
   "outputs": [],
   "source": [
    "img.paste(up_img,(100,200))\n",
    "img.save(path + '/final.jpg')"
   ]
  },
  {
   "cell_type": "code",
   "execution_count": 130,
   "metadata": {},
   "outputs": [],
   "source": [
    "up_img=Image.open(path + '/up.png')"
   ]
  },
  {
   "cell_type": "code",
   "execution_count": 131,
   "metadata": {},
   "outputs": [],
   "source": [
    "up_img=up_img.rotate(60,expand=1)\n",
    "up_img.save(path + '/up.png')"
   ]
  },
  {
   "cell_type": "code",
   "execution_count": 115,
   "metadata": {},
   "outputs": [],
   "source": [
    "up_img.save(path + '/up.jpg')"
   ]
  },
  {
   "cell_type": "code",
   "execution_count": 85,
   "metadata": {},
   "outputs": [],
   "source": [
    "#转换为有alpha层\n",
    "im2 = up_img.convert('RGBA')\n",
    "#旋转图像\n",
    "rot = im2.rotate(60,expand=1)\n",
    "#与旋转图像大小相同的白色图像\n",
    "fff = Image.new('RGBA', rot.size, (255, )*4)\n",
    "#使用alpha层的rot作为掩码创建一个复合图像\n",
    "out = Image.composite(rot,fff,rot)\n",
    "#保存你的工作回到mode ='1'或任何..）\n",
    "out.convert(img.mode).save('test2.bmp')"
   ]
  },
  {
   "cell_type": "code",
   "execution_count": 86,
   "metadata": {},
   "outputs": [],
   "source": [
    "img_region = out.crop((0, 0, rot.size[0], rot.size[1]))\n",
    "img_region.save(path + '/region.bmp')"
   ]
  },
  {
   "cell_type": "code",
   "execution_count": 89,
   "metadata": {},
   "outputs": [],
   "source": [
    "img.paste(img_region, (100, 100))  # 从左上角(0,0)处开始贴图\n",
    "#img.paste(down_img, (0, 495))  # 从下面开始贴图\n",
    "img.save(path + '/rota.jpg')  # 保存图像"
   ]
  },
  {
   "cell_type": "code",
   "execution_count": 132,
   "metadata": {},
   "outputs": [],
   "source": [
    "def transparent_back(img):\n",
    "    img = img.convert('RGBA')\n",
    "    L, H = img.size\n",
    "    color_0 = img.getpixel((0,0))\n",
    "    for h in range(H):\n",
    "        for l in range(L):\n",
    "            dot = (l,h)\n",
    "            color_1 = img.getpixel(dot)\n",
    "            if color_1 == color_0:\n",
    "                color_1 = color_1[:-1] + (0,)\n",
    "                img.putpixel(dot,color_1)\n",
    "    return img"
   ]
  },
  {
   "cell_type": "code",
   "execution_count": 145,
   "metadata": {
    "scrolled": true
   },
   "outputs": [],
   "source": [
    "baidu= Image.open(path + '/baidu.png')  # 我使用的是灰度图像\n",
    "baidu=baidu.rotate(60,expand=1)"
   ]
  },
  {
   "cell_type": "code",
   "execution_count": 147,
   "metadata": {},
   "outputs": [],
   "source": [
    "up=transparent_back(baidu)\n",
    "up.save(path + '/ball.png')"
   ]
  },
  {
   "cell_type": "code",
   "execution_count": 150,
   "metadata": {},
   "outputs": [
    {
     "ename": "KeyError",
     "evalue": "'transparency'",
     "output_type": "error",
     "traceback": [
      "\u001b[1;31m---------------------------------------------------------------------------\u001b[0m",
      "\u001b[1;31mKeyError\u001b[0m                                  Traceback (most recent call last)",
      "\u001b[1;32m<ipython-input-150-0b2ba4ae3896>\u001b[0m in \u001b[0;36m<module>\u001b[1;34m\u001b[0m\n\u001b[1;32m----> 1\u001b[1;33m \u001b[0mbaidu\u001b[0m \u001b[1;33m=\u001b[0m \u001b[0mbaidu\u001b[0m\u001b[1;33m.\u001b[0m\u001b[0minfo\u001b[0m\u001b[1;33m[\u001b[0m\u001b[1;34m'transparency'\u001b[0m\u001b[1;33m]\u001b[0m\u001b[1;33m\u001b[0m\u001b[1;33m\u001b[0m\u001b[0m\n\u001b[0m\u001b[0;32m      2\u001b[0m \u001b[0mbaidu\u001b[0m\u001b[1;33m.\u001b[0m\u001b[0msave\u001b[0m\u001b[1;33m(\u001b[0m\u001b[0mpath\u001b[0m \u001b[1;33m+\u001b[0m \u001b[1;34m'/ball.png'\u001b[0m\u001b[1;33m)\u001b[0m\u001b[1;33m\u001b[0m\u001b[1;33m\u001b[0m\u001b[0m\n",
      "\u001b[1;31mKeyError\u001b[0m: 'transparency'"
     ]
    }
   ],
   "source": [
    "baidu = baidu.info['transparency'] \n",
    "baidu.save(path + '/ball.png')"
   ]
  },
  {
   "cell_type": "code",
   "execution_count": 149,
   "metadata": {},
   "outputs": [],
   "source": [
    "img.paste(up, (100, 100))  # 从左上角(0,0)处开始贴图\n",
    "#img.paste(down_img, (0, 495))  # 从下面开始贴图\n",
    "img.save(path + '/pppp.png')  # 保存"
   ]
  },
  {
   "cell_type": "code",
   "execution_count": 135,
   "metadata": {},
   "outputs": [],
   "source": [
    "import cv2\n",
    "import os\n",
    "import numpy as np\n",
    "path = os.getcwd()\n",
    "img = cv2.imread(path+'/resize.jpg')\n",
    "#print img.item(10, 10, 2)\n",
    "#img.itemset((10,10,2),100)\n",
    "#print img.item(10, 10, 2)\n",
    "#print img.dtype\n",
    "ball = img[600:1000, 600:800]#矩形框取样本\n",
    "img[100:500, 100:300] = ball#粘贴样本"
   ]
  },
  {
   "cell_type": "code",
   "execution_count": 102,
   "metadata": {},
   "outputs": [
    {
     "data": {
      "text/plain": [
       "True"
      ]
     },
     "execution_count": 102,
     "metadata": {},
     "output_type": "execute_result"
    }
   ],
   "source": [
    "img[100:500, 100:300] = up#粘贴样本\n",
    "cv2.imwrite('Saveimage.png',img)"
   ]
  },
  {
   "cell_type": "code",
   "execution_count": 4,
   "metadata": {},
   "outputs": [],
   "source": [
    "cv2.imshow(\"beauty\",img)\n",
    "cv2.waitKey()\n",
    "cv2.destroyAllWindows()"
   ]
  },
  {
   "cell_type": "code",
   "execution_count": 7,
   "metadata": {},
   "outputs": [],
   "source": [
    "import pandas as pd"
   ]
  },
  {
   "cell_type": "code",
   "execution_count": 11,
   "metadata": {},
   "outputs": [
    {
     "data": {
      "text/html": [
       "<div>\n",
       "<style scoped>\n",
       "    .dataframe tbody tr th:only-of-type {\n",
       "        vertical-align: middle;\n",
       "    }\n",
       "\n",
       "    .dataframe tbody tr th {\n",
       "        vertical-align: top;\n",
       "    }\n",
       "\n",
       "    .dataframe thead th {\n",
       "        text-align: right;\n",
       "    }\n",
       "</style>\n",
       "<table border=\"1\" class=\"dataframe\">\n",
       "  <thead>\n",
       "    <tr style=\"text-align: right;\">\n",
       "      <th></th>\n",
       "      <th>A</th>\n",
       "      <th>B</th>\n",
       "    </tr>\n",
       "  </thead>\n",
       "  <tbody>\n",
       "    <tr>\n",
       "      <td>0</td>\n",
       "      <td>3</td>\n",
       "      <td>5</td>\n",
       "    </tr>\n",
       "    <tr>\n",
       "      <td>1</td>\n",
       "      <td>4</td>\n",
       "      <td>8</td>\n",
       "    </tr>\n",
       "  </tbody>\n",
       "</table>\n",
       "</div>"
      ],
      "text/plain": [
       "   A  B\n",
       "0  3  5\n",
       "1  4  8"
      ]
     },
     "execution_count": 11,
     "metadata": {},
     "output_type": "execute_result"
    }
   ],
   "source": [
    "df1=pd.DataFrame([[3,5],[4,8]],columns=list('AB'))\n",
    "df1"
   ]
  },
  {
   "cell_type": "code",
   "execution_count": 10,
   "metadata": {},
   "outputs": [],
   "source": [
    "def sum1(list1):\n",
    "    return np.sum(list1)"
   ]
  },
  {
   "cell_type": "code",
   "execution_count": 46,
   "metadata": {},
   "outputs": [],
   "source": [
    "df1['sum'] =df1.apply(lambda x:sum1(x),axis=1)"
   ]
  },
  {
   "cell_type": "code",
   "execution_count": 47,
   "metadata": {},
   "outputs": [
    {
     "data": {
      "text/html": [
       "<div>\n",
       "<style scoped>\n",
       "    .dataframe tbody tr th:only-of-type {\n",
       "        vertical-align: middle;\n",
       "    }\n",
       "\n",
       "    .dataframe tbody tr th {\n",
       "        vertical-align: top;\n",
       "    }\n",
       "\n",
       "    .dataframe thead th {\n",
       "        text-align: right;\n",
       "    }\n",
       "</style>\n",
       "<table border=\"1\" class=\"dataframe\">\n",
       "  <thead>\n",
       "    <tr style=\"text-align: right;\">\n",
       "      <th></th>\n",
       "      <th>A</th>\n",
       "      <th>B</th>\n",
       "      <th>C</th>\n",
       "      <th>my</th>\n",
       "      <th>sum</th>\n",
       "    </tr>\n",
       "  </thead>\n",
       "  <tbody>\n",
       "    <tr>\n",
       "      <td>0</td>\n",
       "      <td>3.0</td>\n",
       "      <td>5.0</td>\n",
       "      <td>NaN</td>\n",
       "      <td>13.0</td>\n",
       "      <td>21.0</td>\n",
       "    </tr>\n",
       "    <tr>\n",
       "      <td>1</td>\n",
       "      <td>4.0</td>\n",
       "      <td>8.0</td>\n",
       "      <td>NaN</td>\n",
       "      <td>13.0</td>\n",
       "      <td>25.0</td>\n",
       "    </tr>\n",
       "    <tr>\n",
       "      <td>Row_sum</td>\n",
       "      <td>NaN</td>\n",
       "      <td>NaN</td>\n",
       "      <td>NaN</td>\n",
       "      <td>NaN</td>\n",
       "      <td>0.0</td>\n",
       "    </tr>\n",
       "  </tbody>\n",
       "</table>\n",
       "</div>"
      ],
      "text/plain": [
       "           A    B   C    my   sum\n",
       "0        3.0  5.0 NaN  13.0  21.0\n",
       "1        4.0  8.0 NaN  13.0  25.0\n",
       "Row_sum  NaN  NaN NaN   NaN   0.0"
      ]
     },
     "execution_count": 47,
     "metadata": {},
     "output_type": "execute_result"
    }
   ],
   "source": [
    "df1"
   ]
  },
  {
   "cell_type": "code",
   "execution_count": 18,
   "metadata": {},
   "outputs": [
    {
     "data": {
      "text/plain": [
       "A     7.0\n",
       "B    13.0\n",
       "C     0.0\n",
       "dtype: float64"
      ]
     },
     "execution_count": 18,
     "metadata": {},
     "output_type": "execute_result"
    }
   ],
   "source": [
    "A"
   ]
  },
  {
   "cell_type": "code",
   "execution_count": 5,
   "metadata": {},
   "outputs": [],
   "source": [
    "# -*- coding:gb2312 -*-\n",
    "import cv2\n",
    "from math import *\n",
    "import numpy as np\n",
    " \n",
    "img = cv2.imread(path+'/resize.jpg')\n",
    " \n",
    "height=img.shape[0]\n",
    "width=img.shape[1]\n",
    " \n",
    "degree=45\n",
    "#旋转后的尺寸\n",
    "heightNew=int(width*fabs(sin(radians(degree)))+height*fabs(cos(radians(degree))))\n",
    "widthNew=int(height*fabs(sin(radians(degree)))+width*fabs(cos(radians(degree))))\n",
    " \n",
    "matRotation=cv2.getRotationMatrix2D((width/2,height/2),degree,1)\n",
    " \n",
    "matRotation[0,2] +=(widthNew-width)/2 #重点在这步，目前不懂为什么加这步\n",
    "matRotation[1,2] +=(heightNew-height)/2 #重点在这步\n",
    " \n",
    "imgRotation=cv2.warpAffine(img,matRotation,(widthNew,heightNew),borderValue=(255,255,255))"
   ]
  },
  {
   "cell_type": "code",
   "execution_count": 6,
   "metadata": {},
   "outputs": [
    {
     "data": {
      "text/plain": [
       "True"
      ]
     },
     "execution_count": 6,
     "metadata": {},
     "output_type": "execute_result"
    }
   ],
   "source": [
    "cv2.imwrite('zzz.png',imgRotation)"
   ]
  },
  {
   "cell_type": "code",
   "execution_count": null,
   "metadata": {},
   "outputs": [],
   "source": []
  }
 ],
 "metadata": {
  "kernelspec": {
   "display_name": "Python 3",
   "language": "python",
   "name": "python3"
  },
  "language_info": {
   "codemirror_mode": {
    "name": "ipython",
    "version": 3
   },
   "file_extension": ".py",
   "mimetype": "text/x-python",
   "name": "python",
   "nbconvert_exporter": "python",
   "pygments_lexer": "ipython3",
   "version": "3.7.4"
  }
 },
 "nbformat": 4,
 "nbformat_minor": 2
}
